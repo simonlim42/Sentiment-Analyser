{
 "cells": [
  {
   "cell_type": "markdown",
   "id": "b396465b",
   "metadata": {},
   "source": [
    "## Analysis of data\n",
    "The data set provided contains 2000 positive IMDB review & the 2000 negative IMDB reviews. Each .txt file is labelled with an index and the number rating given.\n",
    "\n",
    "Going through the reviews briefly here are the things that I identified:\n",
    "1) The reviews seem to vary in length and there isn't a maximum amount of characters enforced\n",
    "\n",
    "2) Some reviews contains <br /><br /> within their text\n",
    "\n",
    "3) Some movie's (based on id) have negative and positive reviews like id=15\n",
    "\n",
    "4) Several reviewers written sentimental opinions has many instances of sarcasm\n",
    "\n",
    "5) All the reviews are in English\n",
    "\n",
    "6) There seem to be no spelling errors\n",
    "\n",
    "7) Words like \"Gen-X/Y-ers\" where it is cobbled up by the reviewer are used\n",
    "\n",
    "8) Some but not all put the rating within the review (e.g: 4/10 or 4 of 10)\n",
    "\n",
    "9) Grammar of sentences seem correct"
   ]
  },
  {
   "cell_type": "markdown",
   "id": "307992f5",
   "metadata": {},
   "source": [
    "## Analysis of task\n",
    "\n",
    "Sentiment analysis essentially revolves around identifying and extracting subjective information from text. Determining the overall sentiment of a document or piece of text. Sentiment analysis is often used to classify the sentiment of types of user-generated content, to understand the public opinion about a particular topic or product. This can aid businesses to have better data analysis and allow them to make better informed decisions.\n",
    "\n",
    "Sentiment analysis as a machine learning problem contains several chanllenges. One of these challenges pertains the subjectivty of language. Sentiment is often expressed in subtle ways, people often use irony, sarcasm, and other forms of figurative speech which isn't easy for machine to identify/understand.\n",
    "\n",
    "First thoughts of machine learning may have issues with:\n",
    "1) Sarcasm and irony are used within negative reviews when reviewers vent their frustration.\n",
    "\n",
    "2) Phrases such as good \"bad\" (15_1.txt) are used which may affect word associations to sentiments.\n",
    "\n",
    "3) Words may be misinterpreted like \"sad\", the movie could be a sad story but is a good film and have a positive review which may be classified wrongly if using word associations to sentiment. While for a negative review (413_3.txt) \"Just sad.\" is written to display their dissapointment within a negative sentiment. The contradictions is shown.\n",
    "\n",
    "4) Reviews vary in length which may effect the term frequencies.\n",
    "\n",
    "These issues are strongly correlated with the feature vectors we choose (e.g, length, term frequency, word associtaion,...). More detail will be discussed pertaining the different feature vectors chosen and the specific issues that come with it."
   ]
  },
  {
   "cell_type": "markdown",
   "id": "85b11544",
   "metadata": {},
   "source": [
    "## Reading .txt files and processing them into list"
   ]
  },
  {
   "cell_type": "code",
   "execution_count": 1,
   "id": "a904526a",
   "metadata": {},
   "outputs": [],
   "source": [
    "def read_documents(string):\n",
    "    f = open(string) # if accessed locally\n",
    "    merged = \"\"\n",
    "    text=f.read()\n",
    "    text=text.replace(\"<br />\", \"\")\n",
    "    text=text.strip()\n",
    "    f.close()\n",
    "    return text"
   ]
  },
  {
   "cell_type": "code",
   "execution_count": 2,
   "id": "93799713",
   "metadata": {},
   "outputs": [
    {
     "name": "stdout",
     "output_type": "stream",
     "text": [
      "Number of reviews: 4000\n"
     ]
    }
   ],
   "source": [
    "import os\n",
    "all_data=[]\n",
    "file_names=[]\n",
    "senti=[\"pos\",\"neg\"]\n",
    "current_directory = os.getcwd()\n",
    "for sen in senti:\n",
    "    #change path to txt files if required here\n",
    "    path = \"/Users/simonlim/Library/CloudStorage/OneDrive-UniversityofBath/NLP/Assignment/data/\"+sen\n",
    "    os.chdir(path)\n",
    "    for count,file in enumerate(os.listdir()):\n",
    "            file_path = path+\"/\"+file\n",
    "          # Pre-processing  file_names.append(file)\n",
    "            \n",
    "            if sen == \"pos\":\n",
    "                all_data.append((read_documents(file_path),\"positive\"))\n",
    "            else:\n",
    "                all_data.append((read_documents(file_path),\"negative\"))\n",
    "\n",
    "print(\"Number of reviews: {}\".format(len(all_data)))"
   ]
  },
  {
   "cell_type": "markdown",
   "id": "b2a44982",
   "metadata": {},
   "source": [
    "# Pre-processing"
   ]
  },
  {
   "cell_type": "markdown",
   "id": "92d6a9ed",
   "metadata": {},
   "source": [
    "Preparing raw text data for further analysis through cleaning and normalizing text, tokenizing the text into individual words or phrases, removing punctuation and stop words, and stemming or lemmatizing the words to reduce them to their base form can help improve the performance and accuracy of our sentiment analysis . Pre-processing can remove noise and inconsistencies that can interfere with the analysis, and by tokenizing and lemmatizing the words, it can possibly make it easier for the model to identify and analyze the individual components of the text."
   ]
  },
  {
   "cell_type": "code",
   "execution_count": 3,
   "id": "5429f53f",
   "metadata": {
    "scrolled": false
   },
   "outputs": [
    {
     "name": "stderr",
     "output_type": "stream",
     "text": [
      "/Users/simonlim/opt/anaconda3/lib/python3.9/site-packages/scipy/__init__.py:146: UserWarning: A NumPy version >=1.16.5 and <1.23.0 is required for this version of SciPy (detected version 1.23.4\n",
      "  warnings.warn(f\"A NumPy version >={np_minversion} and <{np_maxversion}\"\n",
      "[nltk_data] Downloading package stopwords to\n",
      "[nltk_data]     /Users/simonlim/nltk_data...\n",
      "[nltk_data]   Package stopwords is already up-to-date!\n",
      "[nltk_data] Downloading package punkt to /Users/simonlim/nltk_data...\n",
      "[nltk_data]   Package punkt is already up-to-date!\n",
      "[nltk_data] Downloading package wordnet to\n",
      "[nltk_data]     /Users/simonlim/nltk_data...\n",
      "[nltk_data]   Package wordnet is already up-to-date!\n",
      "[nltk_data] Downloading package omw-1.4 to\n",
      "[nltk_data]     /Users/simonlim/nltk_data...\n",
      "[nltk_data]   Package omw-1.4 is already up-to-date!\n"
     ]
    }
   ],
   "source": [
    "import nltk\n",
    "import string\n",
    "\n",
    "#removed the stopwords, lemmatize and stematized words as well the text of a document \n",
    "nltk.download('stopwords')\n",
    "nltk.download('punkt')\n",
    "nltk.download('wordnet')\n",
    "nltk.download('omw-1.4')\n",
    "\n",
    "from nltk import word_tokenize\n",
    "from nltk.corpus import stopwords\n",
    "from nltk.stem.lancaster import LancasterStemmer\n",
    "from nltk.stem import WordNetLemmatizer\n",
    "from nltk import ngrams\n",
    "from sklearn.model_selection import train_test_split\n",
    "import spacy\n",
    "from spacy import displacy\n",
    "\n",
    "nlp = spacy.load(\"en_core_web_sm\")\n",
    "lm = WordNetLemmatizer()\n",
    "st= LancasterStemmer()\n",
    "stoplist = set(stopwords.words('english'))\n",
    "\n",
    "\n"
   ]
  },
  {
   "cell_type": "code",
   "execution_count": 4,
   "id": "93827d1d",
   "metadata": {},
   "outputs": [],
   "source": [
    "\n",
    "##For Naive Bayes\n",
    "def get_features_label(text,doNothing,doStemma,doLemma,doTokenize,doStopWords,doPuncFilt):\n",
    "    features = {}\n",
    "    terms = {}\n",
    "    if doNothing:\n",
    "        words=text.split(\" \")\n",
    "    elif doLemma:\n",
    "        words=get_features_lemma(text,doTokenize,doStopWords,doPuncFilt)\n",
    "    elif doStemma:\n",
    "        words=get_features_stemma(text,doTokenize,doStopWords,doPuncFilt)\n",
    "    elif doTokenize:\n",
    "        tokenized=word_tokenize(text)\n",
    "        lowered = [w.lower() for w in tokenized]\n",
    "        if doStopWords:\n",
    "            if doPuncFilt:\n",
    "                words = [word for word in lowered if word not in stoplist and word.isalpha()]\n",
    "            else:\n",
    "                words = [word for word in lowered if word not in stoplist]\n",
    "        else:\n",
    "            if doPuncFilt:\n",
    "                words = [word  for word in lowered if  word.isalpha()]\n",
    "            else:\n",
    "                words = [word  for word in lowered]\n",
    "    elif doTokenize==False:\n",
    "        split = text.split(\" \")\n",
    "        lowered = [w.lower() for w in split]\n",
    "        if doStopWords:\n",
    "            if doPuncFilt:\n",
    "                words = [word for word in lowered if word not in stoplist and word.isalpha()]\n",
    "            else:\n",
    "                words = [word for word in lowered if word not in stoplist]\n",
    "        else:\n",
    "            if doPuncFilt:\n",
    "                words = [word for word in lowered if word.isalpha()]\n",
    "            else:\n",
    "                words = [word for word in lowered]\n",
    "                \n",
    "    for word in words:\n",
    "        features[word] = True\n",
    "    return features\n",
    "\n",
    "\n",
    "def get_features_stemma(text,doTokenize,doStopWords,doPuncFilt): \n",
    "    if doTokenize:\n",
    "        tokenized=word_tokenize(text)\n",
    "        lowered = [w.lower() for w in tokenized]\n",
    "        if doStopWords:\n",
    "            if doPuncFilt:\n",
    "                word_list = [st.stem(word) for word in lowered if word not in stoplist and word.isalpha()]\n",
    "            else:\n",
    "                word_list = [st.stem(word) for word in lowered if word not in stoplist]\n",
    "        else:\n",
    "            if doPuncFilt:\n",
    "                word_list = [st.stem(word) for word in lowered if word.isalpha()]\n",
    "            else:\n",
    "                word_list = [st.stem(word) for word in lowered]\n",
    "                \n",
    "    elif doTokenize==False:\n",
    "        split = text.split(\" \")\n",
    "        lowered = [w.lower() for w in split]\n",
    "        if doStopWords:\n",
    "            if doPuncFilt:\n",
    "                word_list = [st.stem(word) for word in lowered if word not in stoplist and word.isalpha()]\n",
    "            else:\n",
    "                word_list = [st.stem(word) for word in lowered if word not in stoplist]\n",
    "        else:\n",
    "            if doPuncFilt:\n",
    "                word_list = [st.stem(word) for word in lowered if word.isalpha()]\n",
    "            else:\n",
    "                word_list = [st.stem(word) for word in lowered]\n",
    "    sentences=word_list\n",
    "    return sentences\n",
    "\n",
    "def get_features_lemma(text,doTokenize,doStopWords,doPuncFilt): \n",
    "    if doTokenize:\n",
    "        tokenized=word_tokenize(text)\n",
    "        lowered = [w.lower() for w in tokenized]\n",
    "        if doStopWords:\n",
    "            if doPuncFilt:\n",
    "                word_list = [lm.lemmatize(word) for word in lowered if word not in stoplist and word.isalpha()]\n",
    "            else:\n",
    "                word_list = [lm.lemmatize(word) for word in lowered if word not in stoplist]\n",
    "        else:\n",
    "            if doPuncFilt:\n",
    "                word_list = [lm.lemmatize(word) for word in lowered if word.isalpha()]\n",
    "            else:\n",
    "                word_list = [lm.lemmatize(word) for word in lowered ]\n",
    "                \n",
    "    elif doTokenize==False:\n",
    "        split = text.split(\" \")\n",
    "        lowered = [w.lower() for w in split]\n",
    "        if doStopWords:\n",
    "            if doPuncFilt:\n",
    "                word_list = [lm.lemmatize(word) for word in lowered if word not in stoplist and word.isalpha()]\n",
    "            else:\n",
    "                word_list = [lm.lemmatize(word) for word in lowered if word not in stoplist]\n",
    "        else:\n",
    "            if doPuncFilt:\n",
    "                word_list = [lm.lemmatize(word) for word in lowered if word.isalpha()]\n",
    "            else:\n",
    "                word_list = [lm.lemmatize(word) for word in lowered]\n",
    "    sentences=word_list\n",
    "    return sentences\n",
    "\n",
    "\n",
    "def posTAGGING(text):\n",
    "    doc=nlp(text)\n",
    "    word_list=[]\n",
    "    for token in doc:\n",
    "        if token.pos_==\"ADJ\" or token.pos==\"ADV\":\n",
    "            word_list.append(token.text)\n",
    "    sentences=\" \".join(word_list)\n",
    "    return sentences"
   ]
  },
  {
   "cell_type": "markdown",
   "id": "ae3f2a28",
   "metadata": {},
   "source": [
    "## Feature Selection\n",
    "\n",
    "When considering the task intuitively the ideas that come into mind are to use words and length of review to analyse sentiment.\n",
    "\n",
    "However with lengh as a feature it doesn't work. With a Naive Bayes model it only got a 51% accuracy. Hence I decided with my current base model.\n",
    "\n",
    "With the baseline model I decided upon using individual words as the feature to look at. First by pre-processing and compiling all the words found in the positive and negative documents and labelling the them with their sentiment. How the labelled data are used will be explained later."
   ]
  },
  {
   "cell_type": "markdown",
   "id": "c9e2b89d",
   "metadata": {},
   "source": [
    "### Generate traning/test splits\n",
    "\n",
    "To take into account of generalization I decided to create 4 training/test splits with different random_states."
   ]
  },
  {
   "cell_type": "code",
   "execution_count": 5,
   "id": "9595a034",
   "metadata": {},
   "outputs": [],
   "source": [
    "labels = [\"positive\"] * 2000 + [\"negative\"] * 2000\n",
    "X_train, X_test, y_train, y_test = train_test_split(all_data, labels, test_size=0.2, random_state=23)\n",
    "X_train2, X_test2, y_train2, y_test2 = train_test_split(all_data, labels, test_size=0.2, random_state=42)\n",
    "X_train3, X_test3, y_train3, y_test3 = train_test_split(all_data, labels, test_size=0.2, random_state=10)\n",
    "X_train4, X_test4, y_train4, y_test4 = train_test_split(all_data, labels, test_size=0.2, random_state=24)\n",
    "X_train5, X_test5, y_train5, y_test5 = train_test_split(all_data, labels, test_size=0.2, random_state=7)"
   ]
  },
  {
   "cell_type": "code",
   "execution_count": 6,
   "id": "2ceae93b",
   "metadata": {},
   "outputs": [],
   "source": [
    "#tuple with 1st element as the featured words\n",
    "#2nd element is the sentiment\n",
    "train_list=[]\n",
    "test_list=[]\n",
    "def set_methods(doNothing,doStemma,doLemma,doTokenize,doStopWords,doPuncFilt):\n",
    "    train_features = [(get_features_label(sents,doNothing,doStemma,doLemma,doTokenize,doStopWords,doPuncFilt), label) for (sents, label) in X_train]\n",
    "    test_features = [(get_features_label(sents,doNothing,doStemma,doLemma,doTokenize,doStopWords,doPuncFilt), label) for (sents, label) in X_test]\n",
    "    train2_features = [(get_features_label(sents,doNothing,doStemma,doLemma,doTokenize,doStopWords,doPuncFilt), label) for (sents, label) in X_train2]\n",
    "    test2_features = [(get_features_label(sents,doNothing,doStemma,doLemma,doTokenize,doStopWords,doPuncFilt), label) for (sents, label) in X_test2]\n",
    "    train3_features = [(get_features_label(sents,doNothing,doStemma,doLemma,doTokenize,doStopWords,doPuncFilt), label) for (sents, label) in X_train3]\n",
    "    test3_features = [(get_features_label(sents,doNothing,doStemma,doLemma,doTokenize,doStopWords,doPuncFilt), label) for (sents, label) in X_test3]\n",
    "    train4_features = [(get_features_label(sents,doNothing,doStemma,doLemma,doTokenize,doStopWords,doPuncFilt), label) for (sents, label) in X_train4]\n",
    "    test4_features = [(get_features_label(sents,doNothing,doStemma,doLemma,doTokenize,doStopWords,doPuncFilt), label) for (sents, label) in X_test4]\n",
    "    train5_features = [(get_features_label(sents,doNothing,doStemma,doLemma,doTokenize,doStopWords,doPuncFilt), label) for (sents, label) in X_train5]\n",
    "    test5_features = [(get_features_label(sents,doNothing,doStemma,doLemma,doTokenize,doStopWords,doPuncFilt), label) for (sents, label) in X_test5]\n",
    "    train_list.append(train_features)\n",
    "    train_list.append(train2_features)\n",
    "    train_list.append(train3_features)\n",
    "    train_list.append(train4_features)\n",
    "    train_list.append(train5_features)\n",
    "    test_list.append(test_features)\n",
    "    test_list.append(test2_features)\n",
    "    test_list.append(test3_features)\n",
    "    test_list.append(test4_features)\n",
    "    test_list.append(test5_features)\n",
    "#doNothing,           ,stem,lemm, token,stop,alpha\n",
    "set_methods(False    ,False,True,True,True,False)\n",
    "# print(f\"Element at index [0] of training set features: {train_list[0]}\")"
   ]
  },
  {
   "cell_type": "markdown",
   "id": "408de01c",
   "metadata": {},
   "source": [
    "### Sanity check\n",
    "\n",
    "Sanity check ensures that our train/test split has around equal split of negative and positive reviews."
   ]
  },
  {
   "cell_type": "code",
   "execution_count": 7,
   "id": "f477d9a1",
   "metadata": {},
   "outputs": [
    {
     "name": "stdout",
     "output_type": "stream",
     "text": [
      "0.5\n",
      "0.5\n",
      "0.493125\n",
      "0.4725\n",
      "0.495\n",
      "0.48\n",
      "0.5015625\n",
      "0.50625\n"
     ]
    }
   ],
   "source": [
    "def catProportions(data, cat):\n",
    "    count = 0\n",
    "    for item in data:\n",
    "        if item[1]==cat:\n",
    "            count += 1\n",
    "    return float(count) / float(len(data))\n",
    "print(catProportions(X_train,\"positive\"))\n",
    "print(catProportions(X_test,\"negative\"))\n",
    "print(catProportions(X_train2,\"positive\"))\n",
    "print(catProportions(X_test2,\"negative\"))\n",
    "print(catProportions(X_train3,\"positive\"))\n",
    "print(catProportions(X_test3,\"negative\"))\n",
    "print(catProportions(X_train4,\"positive\"))\n",
    "print(catProportions(X_test4,\"negative\"))"
   ]
  },
  {
   "cell_type": "markdown",
   "id": "19d10e2d",
   "metadata": {},
   "source": [
    "## Base implementation using Naive Bayes\n",
    "\n",
    "For the this implementation we will be using the NLTK's Naive Bayes classifier. Naive Bayes algorithm is based on the assumption that each feature is independent of one another, thus allowing predictions using only the probabilities of each individual feature. This is works with our task if we were to perform word association as the aglorthm assumes that each word is indepdent of each other thus it allows for predictions based on the probabilties of each word independently. This assumption leads to a more simple and efficient algorithm. More specifically the type of Naive Bayes used is a Multimodal Naive Bayes classifier. The difference between multimodel and other models it that they can incorporate different sources of data. A multimodal classifier can use data from multiple modalities while other types of naive Bayes classifiers can only use data from a single modality.\n",
    "\n",
    "\n",
    "Above is a figure describing how the probability is calculated:\n",
    "Consider the word amazing, to find the probability that amazing is in a positive review (amazing| Positive), we would need the determine the probablity of a positive review containing the word amazing(positive|amazing)  divided by the probability of a review being positive.\n",
    "This can also be seen as:\n",
    "P(amazing)|Positive) = (count of amazing in our data set) / (number of positive review)\n",
    "\n",
    "Now we perform that on every word we find and get their probabilities. We then multiply the probabilities of each word occurring in each class, and then compare the resulting probabilities to determine the class with the highest probability.\n",
    "\n",
    "Now that we have our pre-processing tools,selected feature vector and understaning of the classification algortihm we can now perform our sentiment analysis."
   ]
  },
  {
   "cell_type": "code",
   "execution_count": 8,
   "id": "20f65d00",
   "metadata": {},
   "outputs": [
    {
     "name": "stdout",
     "output_type": "stream",
     "text": [
      "Training set size = 3200 reviews\n",
      "Testin set size = 800 reviews\n",
      "Accuracy on the training set 0 = 98.59375%\n",
      "Accuracy on the testing set 0 = 81.0%\n",
      "Accuracy on the training set 1 = 98.71875%\n",
      "Accuracy on the testing set 1 = 82.625%\n",
      "Accuracy on the training set 2 = 98.625%\n",
      "Accuracy on the testing set 2 = 83.375%\n",
      "Accuracy on the training set 3 = 98.5625%\n",
      "Accuracy on the testing set 3 = 82.5%\n",
      "Accuracy on the training set 4 = 98.4375%\n",
      "Accuracy on the testing set 4 = 81.0%\n",
      "Average accuracy: 98.5875\n",
      "Average accuracy: 82.1\n",
      "Most informative features within training and test set 5:\n",
      "Most Informative Features\n",
      "               laughable = True           negati : positi =     18.5 : 1.0\n",
      "                    7/10 = True           positi : negati =     15.1 : 1.0\n",
      "                   waste = True           negati : positi =     13.6 : 1.0\n",
      "                fabulous = True           positi : negati =     12.4 : 1.0\n",
      "              incoherent = True           negati : positi =     12.3 : 1.0\n",
      "            unbelievably = True           negati : positi =     12.3 : 1.0\n",
      "                    9/10 = True           positi : negati =     11.0 : 1.0\n",
      "                 boredom = True           negati : positi =     11.0 : 1.0\n",
      "                 miscast = True           negati : positi =     11.0 : 1.0\n",
      "                poignant = True           positi : negati =     10.4 : 1.0\n",
      "                    3/10 = True           negati : positi =     10.3 : 1.0\n",
      "              delightful = True           positi : negati =      9.9 : 1.0\n",
      "               atrocious = True           negati : positi =      9.8 : 1.0\n",
      "                 ashamed = True           negati : positi =      9.6 : 1.0\n",
      "             appreciated = True           positi : negati =      9.4 : 1.0\n",
      "               pointless = True           negati : positi =      9.3 : 1.0\n",
      "            embarrassing = True           negati : positi =      9.0 : 1.0\n",
      "                  shoddy = True           negati : positi =      9.0 : 1.0\n",
      "              friendship = True           positi : negati =      8.7 : 1.0\n",
      "           extraordinary = True           positi : negati =      8.6 : 1.0\n"
     ]
    }
   ],
   "source": [
    "from nltk import NaiveBayesClassifier, classify\n",
    "\n",
    "print (f\"Training set size = {str(len(X_train))} reviews\")\n",
    "print (f\"Testin set size = {str(len(X_test))} reviews\")\n",
    "# train the classifier\n",
    "count=0\n",
    "count2=0\n",
    "for i in range (5):\n",
    "    classifier = NaiveBayesClassifier.train(train_list[i])\n",
    "    training_accuracy=classify.accuracy(classifier, train_list[i])*100\n",
    "    count+=training_accuracy\n",
    "    testing_accuracy=classify.accuracy(classifier, test_list[i])*100\n",
    "    count2+=testing_accuracy\n",
    "    print (f\"Accuracy on the training set {i} = {training_accuracy}%\")   \n",
    "    print (f\"Accuracy on the testing set {i} = {testing_accuracy}%\")\n",
    "\n",
    "##to identify generalability\n",
    "print(f\"Average accuracy: {count/5}\")\n",
    "print(f\"Average accuracy: {count2/5}\")\n",
    "# check which words are most informative for the classifier\n",
    "print(\"Most informative features within training and test set 5:\")\n",
    "classifier.show_most_informative_features(20)"
   ]
  },
  {
   "cell_type": "code",
   "execution_count": 9,
   "id": "a1ca7f40",
   "metadata": {},
   "outputs": [
    {
     "name": "stdout",
     "output_type": "stream",
     "text": [
      "[[334  63]\n",
      " [ 89 314]]\n"
     ]
    },
    {
     "data": {
      "image/png": "[encoded data removed]",
      "text/plain": [
       "<Figure size 432x288 with 2 Axes>"
      ]
     },
     "metadata": {
      "needs_background": "light"
     },
     "output_type": "display_data"
    }
   ],
   "source": [
    "from sklearn.metrics import confusion_matrix\n",
    "from sklearn.metrics import plot_confusion_matrix\n",
    "import matplotlib.pyplot as plt\n",
    "import matplotlib.pyplot as plt\n",
    "import numpy as np\n",
    "# predicted labels\n",
    "y_pred = classifier.classify_many([fs for (fs, l) in test_list[4]])\n",
    "\n",
    "# actual labels\n",
    "y_true = [label for (sentence, label) in test_list[4]]\n",
    "\n",
    "# generate confusion matrix\n",
    "confusion_matrix = confusion_matrix(y_true, y_pred)\n",
    "print(confusion_matrix)\n",
    "\n",
    "# display confusion matrix\n",
    "plt.imshow(confusion_matrix, cmap='Blues')\n",
    "\n",
    "# add colorbar\n",
    "plt.colorbar()\n",
    "\n",
    "# add labels\n",
    "labels=[\"positive\",\"negative\"]\n",
    "tick_marks = np.arange(len(labels))\n",
    "plt.xticks(tick_marks, labels, rotation=45)\n",
    "plt.yticks(tick_marks, labels)\n",
    "\n",
    "# add title and axis labels\n",
    "plt.title('Confusion matrix')\n",
    "plt.xlabel('Predicted label')\n",
    "plt.ylabel('True label')\n",
    "\n",
    "# show plot\n",
    "plt.show()"
   ]
  },
  {
   "cell_type": "markdown",
   "id": "dd7c7e98",
   "metadata": {},
   "source": [
    "| Stemmatise | Lemmatise |  Tokenization | Stopwords | AlphaNumericOnly| Average Training Accuracy |Average Testing Accuracy|\n",
    "| :-: | :-: | :-: | :-: | :-: | :-: | :-:|\n",
    "|False | False | False| False| False | 99.44%  |80.75%|\n",
    "|False | False | True | False | False | 97.88% |81.3%|\n",
    "|False | False | False| True | True  | 98.12% |80.95%|\n",
    "|False | False | True | True | True  | 98.22% |81.85% |\n",
    "|False | False | True | True | False | 98.74% |82.15%|\n",
    "|False | True  | True | True | False | 98.44% |82.1%|\n",
    "|False | True  | True | False | False  |97.61% |81.25%|\n",
    "|False | True  | False | False | False  |99.27% |81.5%|\n",
    "|False | True  | True | True | True  |97.88% |82.45%|\n",
    "|True | False  | True | True | True  |96.34% |82.05%|\n",
    "|True | False  | True | False | False  |96.67% |80.8%|\n",
    "|True | False  | True | True | False  |97.51% |82.25%|\n",
    "|True | False  | False | False | False  |99.10% |81.4%|\n",
    "|True | False  | True | False | True  |95.50% |81.75%|"
   ]
  },
  {
   "cell_type": "markdown",
   "id": "6f172e0a",
   "metadata": {},
   "source": [
    "### Accuracy\n",
    "\n",
    "By adjusting the different pre-processing steps our accuracies change. Looking at the table you can see the different combinations of pre-processing steps and the corresponding average accuracies over 5 training/test splits. The highest accuracy obtained in 82.45%.\n",
    "#### No pre-processing\n",
    "Without any pre-processing at all and splitting the words through whitespaces we obtained an average score of 80.75%. \n",
    "#### Tokenization\n",
    "With only the use of tokenization we gained an increase to 81.3%. Tokenization can improve the accuracy as it may remove punctuations. For example by removing punctuations, you can prevent a review with a lot of exclamation points from being wrongly classified as highly negative or positive.\n",
    "\n",
    "#### Stopwords\n",
    "Stop words do not contain any useful information that the model can use to make predictions. By removing stop words, you can reduce the amount of noise in the text, which can help the model make more accurate predictions. This is shown when the probability increases to 81.3%.\n",
    "\n",
    "#### Focussing only on strings containing alphabets\n",
    "You can see that when we only filter alphabets the number of accuracy decreases. This is because within reviews, there are sometimes ratings \"7/10\" that are written which many of the 7 rating reviews have and is one of the top 20 most informative features for being positive.\n",
    "\n",
    "#### Stemmatise\n",
    "Stemmatization is the process of reducing words to their base forms. For exaple words like \"good\", \"better\", and \"best\", reduce to \"good\". This reduces the amount of noise within our feature set which can increase accuracy as seen below.\n",
    "#### Lemmatise\n",
    "Consider the same example as above \"good\", \"better\", and \"best\", lemmatization reduces these to \"good\" when used in comparision, but unlike stemmatization it would reduce \"best\" to the lemma \"well\" when used as an adverb. This would allow us to treat these words as if they were the same word, while still holds it own nuance. This performed better than Stemmatisation. Lemmatization coupled with teoknization and removal of stopwards had the greater increase in testing accuracy.\n"
   ]
  },
  {
   "cell_type": "markdown",
   "id": "249c92b8",
   "metadata": {},
   "source": [
    "### Confusion Matrix\n",
    "What has been understood from the matrix is that 97 negative reviews were tagged positive while 58 positive reviews were tagged negative. This would mean that there are certain words that are used alot in negative reviews that overlapped. This could be due to the point the idea of sarcasm and irony. Sarcasm and irony is scattered throughout negative reviews. This could also indicate how we use our language. This data could potentially mean that we tend to use more sarcasm and irony when we feel a negative way.\n"
   ]
  },
  {
   "cell_type": "markdown",
   "id": "10e2c0e3",
   "metadata": {},
   "source": [
    "### Most informative features\n",
    "When we don't filter out strings that contains strings not only with alphabets. Few things can be seen when analyzing the most informative features. The model seems to like the fraction numbers as identifiers. However it does not seem to be the case when I filter strings to only contains alphabets the prediction accuracy goes up. This mean that the model has less words to use and identifers but the reduce of noise causes the increase in accuracy. Many of the words seen were surprising to see as they typically aren't sentimental however our model picks up on these. There may be sentimental correlations to the words that I might not know of."
   ]
  },
  {
   "cell_type": "markdown",
   "id": "9ca4fd4d",
   "metadata": {},
   "source": [
    "Now we will try using a TF-IDF instead with a Naive Bayes Classifier.\n",
    "This time we will be using a sklearn's Multimodal Naive Bayes classifier as it allows tfidf values vectors to be passed in.\n",
    "## TF-IDF\n",
    "TF-IDF is a weighted model that represents the importance of a word in a document by its frequency within that document and its frequency across all documents.\n",
    "\n",
    "The TfidfVectorizer converts the text into numerical representations (feature vectors). When you apply the TfidfVectorizer to an input review, it will first tokenize the review into individual words and then compute the term-frequency-inverse-document-frequency (TF-IDF) value for each word.\n",
    "\n",
    "The term-frequency is a measure of how often an item appears in the review, while the inverse-document-frequency is a measure importance to of an item to particular document. The TF-IDF is calculated by the product of term-frequency and inverse-document-frequency, and it is used to weigh the importance of each token in the review.\n",
    "\n",
    "The range of TF-IDF scores are from 0-1 with 1 being most important and 0 the least. "
   ]
  },
  {
   "cell_type": "code",
   "execution_count": 10,
   "id": "ecabdd96",
   "metadata": {},
   "outputs": [
    {
     "name": "stdout",
     "output_type": "stream",
     "text": [
      "83.0\n"
     ]
    }
   ],
   "source": [
    "# Import necessary libraries\n",
    "from sklearn.model_selection import train_test_split\n",
    "from sklearn.feature_extraction.text import TfidfVectorizer\n",
    "\n",
    "# Split the data into training and testing sets\n",
    "labels = [\"positive\"] * 2000 + [\"negative\"] * 2000\n",
    "processed=[]\n",
    "vectorizer = TfidfVectorizer()\n",
    "for items in all_data:\n",
    "    textF=get_features_lemma(items[0],True,True,True)\n",
    "#     textF=get_features_stemma(items[0],True,True,True)\n",
    "    textF=\" \".join(textF)\n",
    "    processed.append(textF)\n",
    "X_train, X_test, y_train, y_test = train_test_split(processed, labels, test_size=0.2, random_state=23)#23\n",
    "# X_train2, X_test2, y_train2, y_test2 = train_test_split(all_data, labels, test_size=0.2, random_state=42)\n",
    "# X_train3, X_test3, y_train3, y_test3 = train_test_split(all_data, labels, test_size=0.2, random_state=10)\n",
    "# X_train4, X_test4, y_train4, y_test4 = train_test_split(all_data, labels, test_size=0.2, random_state=24)\n",
    "# X_train5, X_test5, y_train5, y_test5 = train_test_split(all_data, labels, test_size=0.2, random_state=7)\n",
    "X_train_vector1 = vectorizer.fit_transform(X_train)\n",
    "\n",
    "# Transform the testing data with the fitted vectorizer\n",
    "X_test_vector1 = vectorizer.transform(X_test)\n",
    "\n",
    "from sklearn.naive_bayes import MultinomialNB\n",
    "\n",
    "# Create a MultinomialNB object\n",
    "clf = MultinomialNB()\n",
    "\n",
    "# Train the classifier on the training data\n",
    "clf.fit(X_train_vector1, y_train)\n",
    "\n",
    "# Use the trained classifier to make predictions on the testing data\n",
    "y_pred = clf.predict(X_test_vector1)\n",
    "\n",
    "# Evaluate the classifier's performance on the testing data\n",
    "accuracy = clf.score(X_test_vector1, y_test)\n",
    "print(accuracy*100)"
   ]
  },
  {
   "cell_type": "markdown",
   "id": "c232e004",
   "metadata": {},
   "source": [
    "| Stemmatise | Lemmatise |  Tokenization | Stopwords | AlphaNumericOnly| Average Testing Accuracy|\n",
    "| :-: | :-: | :-: | :-: | :-: | :-: |\n",
    "|False | False | False| False| False | 81.44%|\n",
    "|False | True  | True | True | False | 82.63%|\n",
    "|False | True  | True | True | True | 82.80%|\n",
    "|True | False  | True | True | True | 82.08%|"
   ]
  },
  {
   "cell_type": "markdown",
   "id": "80f7a03f",
   "metadata": {},
   "source": [
    "## Second interation: TF-IDF with a Naive Bayes classifier \n"
   ]
  },
  {
   "cell_type": "code",
   "execution_count": 14,
   "id": "1efc2ac7",
   "metadata": {},
   "outputs": [
    {
     "name": "stdout",
     "output_type": "stream",
     "text": [
      "['negative' 'positive']\n",
      "Top 10 features for positive:\n",
      "\tpeople\n",
      "\tbest\n",
      "\tmake\n",
      "\tlife\n",
      "\twould\n",
      "\tlove\n",
      "\talso\n",
      "\twell\n",
      "\treally\n",
      "\tshow\n",
      "\tcharacter\n",
      "\tsee\n",
      "\ttime\n",
      "\tgood\n",
      "\tlike\n",
      "\tstory\n",
      "\tgreat\n",
      "\tone\n",
      "\tmovie\n",
      "\tfilm\n",
      "Top 10 features for negative:\n",
      "\tfulton\n",
      "\tintellectually\n",
      "\tintellectualize\n",
      "\tconsequently\n",
      "\tconsequent\n",
      "\tpochath\n",
      "\tconsented\n",
      "\tpocus\n",
      "\teu\n",
      "\tconsensual\n",
      "\tpoesy\n",
      "\tconscripted\n",
      "\tpoetical\n",
      "\tconsciously\n",
      "\tconscientious\n",
      "\tpointlessly\n",
      "\tpointlessness\n",
      "\tpointlessthe\n",
      "\tconquistador\n",
      "\tpointy\n"
     ]
    },
    {
     "name": "stderr",
     "output_type": "stream",
     "text": [
      "/Users/simonlim/opt/anaconda3/lib/python3.9/site-packages/sklearn/utils/deprecation.py:87: FutureWarning: Function get_feature_names is deprecated; get_feature_names is deprecated in 1.0 and will be removed in 1.2. Please use get_feature_names_out instead.\n",
      "  warnings.warn(msg, category=FutureWarning)\n",
      "/Users/simonlim/opt/anaconda3/lib/python3.9/site-packages/sklearn/utils/deprecation.py:103: FutureWarning: Attribute `coef_` was deprecated in version 0.24 and will be removed in 1.1 (renaming of 0.26).\n",
      "  warnings.warn(msg, category=FutureWarning)\n"
     ]
    }
   ],
   "source": [
    "import numpy as np\n",
    "# Get the names of the features\n",
    "feature_names = np.asarray(vectorizer.get_feature_names())\n",
    "\n",
    "# Get the names of the labels\n",
    "label_names = clf.classes_\n",
    "print(label_names)\n",
    "# Print the features and their corresponding labels\n",
    "top_features = np.argsort(clf.coef_[0])[-20:]\n",
    "print(f'Top 10 features for {label_names[1]}:')\n",
    "for feature_index in top_features:\n",
    "    print(f'\\t{feature_names[feature_index]}')\n",
    "    \n",
    "top_features = np.argsort(clf.coef_[0])[:20]\n",
    "print(f'Top 10 features for {label_names[0]}:')\n",
    "for feature_index in top_features:\n",
    "    print(f'\\t{feature_names[feature_index]}')\n",
    "    "
   ]
  },
  {
   "cell_type": "code",
   "execution_count": 13,
   "id": "db5a93d7",
   "metadata": {},
   "outputs": [
    {
     "name": "stdout",
     "output_type": "stream",
     "text": [
      "              precision    recall  f1-score   support\n",
      "\n",
      "    negative       0.80      0.88      0.84       400\n",
      "    positive       0.86      0.78      0.82       400\n",
      "\n",
      "    accuracy                           0.83       800\n",
      "   macro avg       0.83      0.83      0.83       800\n",
      "weighted avg       0.83      0.83      0.83       800\n",
      "\n"
     ]
    }
   ],
   "source": [
    "from sklearn.metrics import classification_report\n",
    "print(classification_report(y_test, y_pred))"
   ]
  },
  {
   "cell_type": "code",
   "execution_count": 15,
   "id": "a7bc1409",
   "metadata": {},
   "outputs": [
    {
     "name": "stdout",
     "output_type": "stream",
     "text": [
      "[[351  49]\n",
      " [ 87 313]]\n"
     ]
    },
    {
     "data": {
      "image/png": "[encoded data removed]",
      "text/plain": [
       "<Figure size 432x288 with 2 Axes>"
      ]
     },
     "metadata": {
      "needs_background": "light"
     },
     "output_type": "display_data"
    }
   ],
   "source": [
    "from sklearn.metrics import confusion_matrix\n",
    "\n",
    "# Use the trained classifier to make predictions on the testing data\n",
    "y_pred = clf.predict(X_test_vector1)\n",
    "\n",
    "# Compute the confusion matrix\n",
    "confusion_matrix = confusion_matrix(y_test, y_pred)\n",
    "\n",
    "# Print the confusion matrix\n",
    "print(confusion_matrix)\n",
    "plt.imshow(confusion_matrix, cmap='Blues')\n",
    "\n",
    "# add colorbar\n",
    "plt.colorbar()\n",
    "\n",
    "# add labels\n",
    "labels=[\"positive\",\"negative\"]\n",
    "tick_marks = np.arange(len(labels))\n",
    "plt.xticks(tick_marks, labels, rotation=45)\n",
    "plt.yticks(tick_marks, labels)\n",
    "\n",
    "# add title and axis labels\n",
    "plt.title('Confusion matrix')\n",
    "plt.xlabel('Predicted label')\n",
    "plt.ylabel('True label')\n",
    "\n",
    "# show plot\n",
    "plt.show()"
   ]
  },
  {
   "cell_type": "markdown",
   "id": "f6b196c6",
   "metadata": {},
   "source": [
    "| Stemmatise | Lemmatise |  Tokenization | Stopwords | AlphaNumericOnly| Average Testing Accuracy|\n",
    "| :-: | :-: | :-: | :-: | :-: | :-: |\n",
    "|False | False | False| False| False | 81.44%|\n",
    "|False | True  | True | True | False | 82.63%|\n",
    "|False | True  | True | True | True | 82.80%|\n",
    "|True | False  | True | True | True | 82.08%|"
   ]
  },
  {
   "cell_type": "markdown",
   "id": "093b1854",
   "metadata": {},
   "source": [
    "## Second interation results analysis\n",
    "Again you can see after altering the pre-processing techniques Lemmatization with tokenization seems to be working well with TF-IDF Naive Bayes. When only keeping strings that contains only alphabets the TF-IDF system really likes it. There isn't much of an increase in 0.4% from the best pre-processing obtained from the base implementaion. The confusion matrix is similar when we did our base implementation where there are more negative reviews still tagged as positives."
   ]
  },
  {
   "cell_type": "markdown",
   "id": "08b4f1cd",
   "metadata": {},
   "source": [
    "## Final interation: TF-IDF with Linear SVC"
   ]
  },
  {
   "cell_type": "markdown",
   "id": "79e356c2",
   "metadata": {},
   "source": [
    "A linear support vector classifier (SVC) is a support vector machine that is trained to perform classification tasks using a linear kernel. It is linear model that can be used to separate data points into two classes by finding a line that best divides the data into the desired classes.\n",
    "Linear SVCs have several advantages over other classification methods. They are fast and efficient to train, even on large datasets, and they can handle high-dimensional data well. Linear SVC's are also relatively insensitive to overfitting, which means that they can generalize well to new data points."
   ]
  },
  {
   "cell_type": "code",
   "execution_count": 16,
   "id": "e5d835a4",
   "metadata": {},
   "outputs": [
    {
     "name": "stdout",
     "output_type": "stream",
     "text": [
      "84.0\n"
     ]
    }
   ],
   "source": [
    "# Import necessary libraries\n",
    "from sklearn.model_selection import train_test_split\n",
    "from sklearn.feature_extraction.text import TfidfVectorizer\n",
    "from sklearn.svm import LinearSVC\n",
    "\n",
    "# Split the data into training and testing sets\n",
    "labels = [\"positive\"] * 2000 + [\"negative\"] * 2000\n",
    "vectorizer = TfidfVectorizer()\n",
    "processed=[]\n",
    "for items in all_data:\n",
    "#     textF=get_features_stemma(items[0],False,False,False)\n",
    "    textF=get_features_lemma(items[0],True,False,False)\n",
    "    textF=\" \".join(textF)\n",
    "    processed.append(textF)\n",
    "    \n",
    "X_train, X_test, y_train, y_test = train_test_split(processed, labels, test_size=0.2, random_state=10)#23\n",
    "# X_train2, X_test2, y_train2, y_test2 = train_test_split(all_data, labels, test_size=0.2, random_state=42)#42\n",
    "# X_train3, X_test3, y_train3, y_test3 = train_test_split(all_data, labels, test_size=0.2, random_state=10)#10\n",
    "# X_train4, X_test4, y_train4, y_test4 = train_test_split(all_data, labels, test_size=0.2, random_state=24)#24\n",
    "# X_train5, X_test5, y_train5, y_test5 = train_test_split(all_data, labels, test_size=0.2, random_state=7)#7\n",
    "X_train = vectorizer.fit_transform(X_train)\n",
    "\n",
    "# Transform the testing data with the fitted vectorizer\n",
    "X_test = vectorizer.transform(X_test)\n",
    "# Create and train the SVM model\n",
    "model = LinearSVC()\n",
    "model.fit(X_train, y_train)\n",
    "\n",
    "# Use the model to make predictions on the testing data\n",
    "predictions = model.predict(X_test)\n",
    "accuracy = model.score(X_test, y_test)\n",
    "print(accuracy*100)\n",
    "# Create the TF-IDF vectorizer"
   ]
  },
  {
   "cell_type": "code",
   "execution_count": 17,
   "id": "e032097f",
   "metadata": {},
   "outputs": [
    {
     "name": "stdout",
     "output_type": "stream",
     "text": [
      "['negative' 'positive']\n",
      "Top 10 features for positive:\n",
      "\tperfect\n",
      "\tbest\n",
      "\trecommended\n",
      "\tworld\n",
      "\twonderful\n",
      "\twell\n",
      "\tfavorite\n",
      "\tliked\n",
      "\texcellent\n",
      "\tgreat\n",
      "Top 10 features for negative:\n",
      "\tbad\n",
      "\tworst\n",
      "\twaste\n",
      "\tawful\n",
      "\tpoor\n",
      "\tno\n",
      "\tscript\n",
      "\tterrible\n",
      "\tunfortunately\n",
      "\tdull\n"
     ]
    },
    {
     "name": "stderr",
     "output_type": "stream",
     "text": [
      "/Users/simonlim/opt/anaconda3/lib/python3.9/site-packages/sklearn/utils/deprecation.py:87: FutureWarning: Function get_feature_names is deprecated; get_feature_names is deprecated in 1.0 and will be removed in 1.2. Please use get_feature_names_out instead.\n",
      "  warnings.warn(msg, category=FutureWarning)\n"
     ]
    }
   ],
   "source": [
    "import numpy as np\n",
    "# Get the names of the features\n",
    "feature_names = np.asarray(vectorizer.get_feature_names())\n",
    "\n",
    "# Get the names of the labels\n",
    "label_names = model.classes_\n",
    "print(label_names)\n",
    "# Print the features and their corresponding labels\n",
    "top_features = np.argsort(model.coef_[0])[-10:]\n",
    "print(f'Top 10 features for {label_names[1]}:')\n",
    "for feature_index in top_features:\n",
    "    print(f'\\t{feature_names[feature_index]}')\n",
    "    \n",
    "top_features = np.argsort(model.coef_[0])[:10]\n",
    "print(f'Top 10 features for {label_names[0]}:')\n",
    "for feature_index in top_features:\n",
    "    print(f'\\t{feature_names[feature_index]}')\n",
    "    "
   ]
  },
  {
   "cell_type": "code",
   "execution_count": 18,
   "id": "269dd16b",
   "metadata": {},
   "outputs": [
    {
     "name": "stdout",
     "output_type": "stream",
     "text": [
      "              precision    recall  f1-score   support\n",
      "\n",
      "    negative       0.49      0.56      0.52       384\n",
      "    positive       0.53      0.46      0.50       416\n",
      "\n",
      "    accuracy                           0.51       800\n",
      "   macro avg       0.51      0.51      0.51       800\n",
      "weighted avg       0.51      0.51      0.51       800\n",
      "\n"
     ]
    }
   ],
   "source": [
    "from sklearn.metrics import classification_report\n",
    "print(classification_report(y_test, y_pred))"
   ]
  },
  {
   "cell_type": "code",
   "execution_count": 19,
   "id": "ba6dc9fa",
   "metadata": {},
   "outputs": [
    {
     "name": "stdout",
     "output_type": "stream",
     "text": [
      "84.0\n",
      "[[320  64]\n",
      " [ 64 352]]\n"
     ]
    },
    {
     "data": {
      "image/png": "[encoded data removed]",
      "text/plain": [
       "<Figure size 432x288 with 2 Axes>"
      ]
     },
     "metadata": {
      "needs_background": "light"
     },
     "output_type": "display_data"
    }
   ],
   "source": [
    "from sklearn.metrics import confusion_matrix\n",
    "import matplotlib.pyplot as plt\n",
    "true_labels = y_test\n",
    "\n",
    "# predicted labels for the test data\n",
    "predicted_labels = predictions\n",
    "cm = confusion_matrix(true_labels, predicted_labels)\n",
    "print(accuracy*100)\n",
    "print(cm)\n",
    "plt.imshow(cm, cmap='Blues')\n",
    "\n",
    "# add colorbar\n",
    "plt.colorbar()\n",
    "\n",
    "# add labels\n",
    "labels=[\"positive\",\"negative\"]\n",
    "tick_marks = np.arange(len(labels))\n",
    "plt.xticks(tick_marks, labels, rotation=45)\n",
    "plt.yticks(tick_marks, labels)\n",
    "\n",
    "# add title and axis labels\n",
    "plt.title('Confusion matrix')\n",
    "plt.xlabel('Predicted label')\n",
    "plt.ylabel('True label')\n",
    "\n",
    "# show plot\n",
    "plt.show()"
   ]
  },
  {
   "cell_type": "markdown",
   "id": "0be99a4e",
   "metadata": {},
   "source": [
    "|Stemmatise | Lemmatise |  Tokenization | Stopwords | AlphaNumericOnly| Average Testing Accuracy|\n",
    "| :-: | :-: | :-: | :-: | :-: | :-: |\n",
    "|False | False | False| False| False | 85.28%|\n",
    "|False | True | False| False| False | 85.28%|\n",
    "|False | True | False| False| True | 82.75%|\n",
    "|False | True  | True | False | False | 84.66%|\n",
    "|False | True  | True | True | False | 84.43%|\n",
    "|False | True  | True | True | True | 84.68%|\n",
    "|True | False  | True | True | True | 84.00%|"
   ]
  },
  {
   "cell_type": "markdown",
   "id": "562b70ca",
   "metadata": {},
   "source": [
    "## Review of TF-IDF with a linear SVC\n",
    "\n",
    "Linear SVC performs 2.48% better than TF-IDF with Naive Bayes. Interestingly the accuracy between Lemmatized and not Lemmatized without any other pre-processing technique scored the same. However, during my test I noticed a wider range of generalization with lemmatized text. This model also works best without any pre-processing. More specific pre-processing may lead to better performace for this model. Looking at the confusion matrix, the mistakes being made by this model is less skewed to false positives and is more equal. The top 10 features for positives/negatives shown are also very obvious to me that they have their respective sentiment (brilliant, great, bad, waste, etc...). No fractions are seen in the top 10 features anymore as well hence the importance of them may be insiginificant."
   ]
  },
  {
   "attachments": {},
   "cell_type": "markdown",
   "id": "04fe35c3",
   "metadata": {},
   "source": [
    "## Parsing and chunking with our final model\n",
    "This section I decided to apply the parsing and chunking on my final model. This is due to the intuition that words like adjectives and adverbs are often important for expressing sentiment, as they are used to describe the qualities or emotions associated with a noun or verb. Hence, I decided to perform two task,1) only take Adverbs, nouns, adjectives and verbs and 2) take only adverbs and adjectives. Then pre-process those words and train our model. This can be done by Parts of Speech tagging."
   ]
  },
  {
   "cell_type": "code",
   "execution_count": null,
   "id": "71219699",
   "metadata": {},
   "outputs": [],
   "source": [
    "# Import necessary libraries\n",
    "from sklearn.model_selection import train_test_split\n",
    "from sklearn.feature_extraction.text import TfidfVectorizer\n",
    "from sklearn.svm import LinearSVC\n",
    "\n",
    "# Split the data into training and testing sets\n",
    "labels = [\"positive\"] * 2000 + [\"negative\"] * 2000\n",
    "vectorizer = TfidfVectorizer()\n",
    "processed=[]\n",
    "for items in all_data:\n",
    "    postagged=posTAGGING(items[0])\n",
    "#     textF=get_features_stemma(items[0],False,False,False)\n",
    "    textF=get_features_lemma(postagged,True,False,False)\n",
    "    textF=\" \".join(textF)\n",
    "    processed.append(textF)\n",
    "    \n",
    "X_train, X_test, y_train, y_test = train_test_split(processed, labels, test_size=0.2, random_state=7)#23\n",
    "# X_train2, X_test2, y_train2, y_test2 = train_test_split(all_data, labels, test_size=0.2, random_state=42)#42\n",
    "# X_train3, X_test3, y_train3, y_test3 = train_test_split(all_data, labels, test_size=0.2, random_state=10)#10\n",
    "# X_train4, X_test4, y_train4, y_test4 = train_test_split(all_data, labels, test_size=0.2, random_state=24)#24\n",
    "# X_train5, X_test5, y_train5, y_test5 = train_test_split(all_data, labels, test_size=0.2, random_state=7)#7\n",
    "X_train = vectorizer.fit_transform(X_train)\n",
    "\n",
    "# Transform the testing data with the fitted vectorizer\n",
    "X_test = vectorizer.transform(X_test)\n",
    "# Create and train the SVM model\n",
    "model = LinearSVC()\n",
    "model.fit(X_train, y_train)\n",
    "\n",
    "# Use the model to make predictions on the testing data\n",
    "predictions = model.predict(X_test)\n",
    "accuracy = model.score(X_test, y_test)\n",
    "print(accuracy*100)\n",
    "# Create the TF-IDF vectorizer"
   ]
  },
  {
   "cell_type": "markdown",
   "id": "e1467725",
   "metadata": {},
   "source": [
    "#### ADVERBS+NOUNS+VERBS+ADJECTIVES\n",
    "|Stemmatise | Lemmatise |  Tokenization | Stopwords | AlphaNumericOnly| Average Testing Accuracy|\n",
    "| :-: | :-: | :-: | :-: | :-: |:-: |\n",
    "|False | True | False| False| False | 79.69%|\n",
    "#### ADVERBS+ADJECTIVES\n",
    "|Stemmatise | Lemmatise |  Tokenization | Stopwords | AlphaNumericOnly| Average Testing Accuracy|\n",
    "| :-: | :-: | :-: | :-: | :-: |:-: |\n",
    "|False | True | False| False| False | 78.63%|"
   ]
  },
  {
   "cell_type": "code",
   "execution_count": null,
   "id": "963dbf05",
   "metadata": {},
   "outputs": [],
   "source": [
    "import numpy as np\n",
    "# Get the names of the features\n",
    "feature_names = np.asarray(vectorizer.get_feature_names())\n",
    "\n",
    "# Get the names of the labels\n",
    "label_names = model.classes_\n",
    "print(label_names)\n",
    "# Print the features and their corresponding labels\n",
    "top_features = np.argsort(model.coef_[0])[-10:]\n",
    "print(f'Top 10 features for {label_names[1]}:')\n",
    "for feature_index in top_features:\n",
    "    print(f'\\t{feature_names[feature_index]}')\n",
    "    \n",
    "top_features = np.argsort(model.coef_[0])[:10]\n",
    "print(f'Top 10 features for {label_names[0]}:')\n",
    "for feature_index in top_features:\n",
    "    print(f'\\t{feature_names[feature_index]}')\n",
    "    "
   ]
  },
  {
   "cell_type": "code",
   "execution_count": null,
   "id": "cdd2bcca",
   "metadata": {},
   "outputs": [],
   "source": [
    "from sklearn.metrics import confusion_matrix\n",
    "import matplotlib.pyplot as plt\n",
    "true_labels = y_test\n",
    "\n",
    "# predicted labels for the test data\n",
    "predicted_labels = predictions\n",
    "cm = confusion_matrix(true_labels, predicted_labels)\n",
    "print(accuracy*100)\n",
    "print(cm)\n",
    "plt.imshow(cm, cmap='Blues')\n",
    "\n",
    "# add colorbar\n",
    "plt.colorbar()\n",
    "\n",
    "# add labels\n",
    "labels=[\"positive\",\"negative\"]\n",
    "tick_marks = np.arange(len(labels))\n",
    "plt.xticks(tick_marks, labels, rotation=45)\n",
    "plt.yticks(tick_marks, labels)\n",
    "\n",
    "# add title and axis labels\n",
    "plt.title('Confusion matrix')\n",
    "plt.xlabel('Predicted label')\n",
    "plt.ylabel('True label')\n",
    "\n",
    "# show plot\n",
    "plt.show()"
   ]
  },
  {
   "cell_type": "markdown",
   "id": "10a8bc59",
   "metadata": {},
   "source": [
    "#### ADVERBS+NOUNS+VERBS+ADJECTIVES\n",
    "|Stemmatise | Lemmatise |  Tokenization | Stopwords | AlphaNumericOnly| Average Testing Accuracy|\n",
    "| :-: | :-: | :-: | :-: | :-: |:-: |\n",
    "|False | True | False| False| False | 79.69%|\n",
    "\n",
    "#### ADVERBS+ADJECTIVES\n",
    "|Stemmatise | Lemmatise |  Tokenization | Stopwords | AlphaNumericOnly| Average Testing Accuracy|\n",
    "| :-: | :-: | :-: | :-: | :-: |:-: |\n",
    "|False | True | False| False| False | 78.63%|"
   ]
  },
  {
   "cell_type": "markdown",
   "id": "1fc639a8",
   "metadata": {},
   "source": [
    "Looking at the accuracy it would appear that the model works worse with the POS filter. This proves that context matters within parts of speech and filtering out words that do not fall under adverbs, adjectives, nouns and verbs will lose some of its sentiment. The top 10 features of positives and negatives do display only adjectives+adverbs as per expected. Confusion matrix is has more wrong tagging for true positive sentiments but overall nothing out of the ordinary. From this data it proves that chunking and parsing requires very intriciate techniques to maintain the nuance of reviews to better analyse sentiment and using them just to filter certain parts of speech does not necessarily improve a model."
   ]
  },
  {
   "cell_type": "markdown",
   "id": "b562445f",
   "metadata": {},
   "source": [
    "## Conclusion\n",
    "From starting with the Base Naive Bayes and using word probablities I ended with TF-IDF on a linearSVC classifier with pre-processed text.\n",
    "\n",
    "Pre-processing has a lot to play in terms of Sentiment Analysis, drastic changes can occur when done properly. Chunking and parsing was done through Parts of Speech tagging however the results were not the best as there were no improvements.\n",
    "\n",
    "Given more time I would definitely try and look into recurrent neural networks as I have read that it can be used for sentiment analysis. Another area which I would like to look into optimizing the use of chunking and parsing using parts of speech as that is an area of interest of mine.\n",
    "\n",
    "Groundbreaking development like BERT has come a long way interms of NLP and this project has defintely gave me a glimpse of its difficuly and how to approach an NLP task througouhly."
   ]
  }
 ],
 "metadata": {
  "kernelspec": {
   "display_name": "Python 3 (ipykernel)",
   "language": "python",
   "name": "python3"
  },
  "language_info": {
   "codemirror_mode": {
    "name": "ipython",
    "version": 3
   },
   "file_extension": ".py",
   "mimetype": "text/x-python",
   "name": "python",
   "nbconvert_exporter": "python",
   "pygments_lexer": "ipython3",
   "version": "3.9.12"
  }
 },
 "nbformat": 4,
 "nbformat_minor": 5
}
